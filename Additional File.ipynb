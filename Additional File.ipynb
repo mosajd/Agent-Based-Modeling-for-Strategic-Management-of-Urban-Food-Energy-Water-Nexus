{
 "cells": [
  {
   "cell_type": "markdown",
   "id": "2a23231d",
   "metadata": {},
   "source": [
    "# Rainfall and Irradiance Data for agent-based model"
   ]
  },
  {
   "cell_type": "markdown",
   "id": "c9dd495b",
   "metadata": {},
   "source": [
    "## Rainfall Data for Genova 2022"
   ]
  },
  {
   "cell_type": "markdown",
   "id": "ffbf12e9",
   "metadata": {},
   "source": [
    "source: https://www.visualcrossing.com/"
   ]
  },
  {
   "cell_type": "code",
   "execution_count": null,
   "id": "2eeba01f",
   "metadata": {},
   "outputs": [],
   "source": [
    "import pandas as pd\n",
    "\n",
    "# Read the CSV file\n",
    "data = pd.read_csv('Visualcrossing_Genova_rainfall_2022.csv')\n",
    "\n",
    "# Convert the 'datetime' column to datetime format\n",
    "data['datetime'] = pd.to_datetime(data['datetime'])\n",
    "\n",
    "# Group the data by week and calculate the sum of 'precip' column\n",
    "weekly_rainfall = data.groupby(data['datetime'].dt.week)['precip'].sum().reset_index()\n",
    "\n",
    "# Save the result to a new CSV file\n",
    "weekly_rainfall.to_csv('weekly_rainfall.csv', index=False)"
   ]
  },
  {
   "cell_type": "markdown",
   "id": "798d086a",
   "metadata": {},
   "source": [
    "## Clearsky GHI and Temperature Data for Genova 2019"
   ]
  },
  {
   "cell_type": "markdown",
   "id": "cef33f8e",
   "metadata": {},
   "source": [
    "source: https://nsrdb.nrel.gov/"
   ]
  },
  {
   "cell_type": "code",
   "execution_count": null,
   "id": "eba8f5a0",
   "metadata": {},
   "outputs": [],
   "source": [
    "# Read the CSV file\n",
    "irradiance_data = pd.read_csv('NSRDB_Genova_2019.csv')\n",
    "\n",
    "weekly_irradiance_data = pd.DataFrame(data=0, index=range(1,54), columns=['Clearsky GHI', 'Temperature'])\n",
    "j = 0\n",
    "for i in range(len(df)):\n",
    "    if i % 168 != 0:\n",
    "        weekly_irradiance_data['Clearsky GHI'][j] += irradiance_data['Clearsky GHI'][i]\n",
    "        weekly_irradiance_data['Temperature'][j] += irradiance_data['Temperature'][i]/168\n",
    "\n",
    "    else:\n",
    "        j += 1\n",
    "        weekly_irradiance_data['Clearsky GHI'][j] += irradiance_data['Clearsky GHI'][i]\n",
    "        weekly_irradiance_data['Temperature'][j] += irradiance_data['Temperature'][i]/168\n"
   ]
  }
 ],
 "metadata": {
  "kernelspec": {
   "display_name": "Python 3 (ipykernel)",
   "language": "python",
   "name": "python3"
  },
  "language_info": {
   "codemirror_mode": {
    "name": "ipython",
    "version": 3
   },
   "file_extension": ".py",
   "mimetype": "text/x-python",
   "name": "python",
   "nbconvert_exporter": "python",
   "pygments_lexer": "ipython3",
   "version": "3.11.4"
  }
 },
 "nbformat": 4,
 "nbformat_minor": 5
}
