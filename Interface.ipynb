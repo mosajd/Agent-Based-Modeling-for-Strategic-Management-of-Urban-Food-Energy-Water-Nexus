{
 "cells": [
  {
   "attachments": {},
   "cell_type": "markdown",
   "id": "b647dde8",
   "metadata": {},
   "source": [
    "<br>\n",
    "<h1>Agent-Based Modeling for Strategic Management of Urban Food-Energy-Water Nexus for Sustainable Development</h1>\n",
    "<br><br>"
   ]
  },
  {
   "cell_type": "code",
   "execution_count": null,
   "id": "3a0f177c",
   "metadata": {
    "scrolled": false
   },
   "outputs": [],
   "source": [
    "%run Food_Energy_Water_Nexus.ipynb\n",
    "button_interface"
   ]
  },
  {
   "cell_type": "code",
   "execution_count": null,
   "id": "6c65f969",
   "metadata": {},
   "outputs": [],
   "source": []
  },
  {
   "cell_type": "code",
   "execution_count": null,
   "id": "7cd06e7b",
   "metadata": {},
   "outputs": [],
   "source": [
    "button_table_farms_information"
   ]
  },
  {
   "cell_type": "code",
   "execution_count": null,
   "id": "7d8ac4ac",
   "metadata": {},
   "outputs": [],
   "source": [
    "button_farms_budget"
   ]
  },
  {
   "cell_type": "code",
   "execution_count": null,
   "id": "405f427c",
   "metadata": {},
   "outputs": [],
   "source": [
    "button_farms_waste"
   ]
  },
  {
   "cell_type": "code",
   "execution_count": null,
   "id": "3ce47d13",
   "metadata": {},
   "outputs": [],
   "source": [
    "button_table_customers_information"
   ]
  },
  {
   "cell_type": "code",
   "execution_count": null,
   "id": "25663068",
   "metadata": {},
   "outputs": [],
   "source": [
    "button_weight_bought"
   ]
  },
  {
   "cell_type": "code",
   "execution_count": null,
   "id": "80906a8c",
   "metadata": {},
   "outputs": [],
   "source": [
    "button_average_weight_bought"
   ]
  },
  {
   "cell_type": "code",
   "execution_count": null,
   "id": "813d8f83",
   "metadata": {},
   "outputs": [],
   "source": [
    "button_weight_need"
   ]
  },
  {
   "cell_type": "code",
   "execution_count": null,
   "id": "2f32cfd0",
   "metadata": {},
   "outputs": [],
   "source": [
    "button_average_weight_need"
   ]
  },
  {
   "cell_type": "code",
   "execution_count": null,
   "id": "88a90a09",
   "metadata": {},
   "outputs": [],
   "source": [
    "button_satisfaction"
   ]
  },
  {
   "cell_type": "code",
   "execution_count": null,
   "id": "2a7be941",
   "metadata": {},
   "outputs": [],
   "source": [
    "button_move"
   ]
  },
  {
   "cell_type": "code",
   "execution_count": null,
   "id": "8c09885e",
   "metadata": {},
   "outputs": [],
   "source": [
    "button_average_move"
   ]
  },
  {
   "cell_type": "code",
   "execution_count": null,
   "id": "de498291",
   "metadata": {},
   "outputs": [],
   "source": []
  }
 ],
 "metadata": {
  "kernelspec": {
   "display_name": "Python 3 (ipykernel)",
   "language": "python",
   "name": "python3"
  },
  "language_info": {
   "codemirror_mode": {
    "name": "ipython",
    "version": 3
   },
   "file_extension": ".py",
   "mimetype": "text/x-python",
   "name": "python",
   "nbconvert_exporter": "python",
   "pygments_lexer": "ipython3",
   "version": "3.11.4"
  }
 },
 "nbformat": 4,
 "nbformat_minor": 5
}
